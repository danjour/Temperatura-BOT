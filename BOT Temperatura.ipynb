{
 "cells": [
  {
   "cell_type": "code",
   "execution_count": 6,
   "metadata": {},
   "outputs": [],
   "source": [
    "token=\"XXXXXXXXXXXXXXXXXXXXXXXX\""
   ]
  },
  {
   "cell_type": "code",
   "execution_count": 11,
   "metadata": {},
   "outputs": [],
   "source": [
    "import telebot\n",
    "from telebot import types\n",
    "bot=telebot.TeleBot(token)\n",
    "\n",
    "@bot.message_handler(commands=['temperatura'])\n",
    "\n",
    "def say_hello(message):\n",
    "    chat_id=message.chat.id\n",
    "    teste = bot.message_handler(commands=['temperatura'])\n",
    "    markup = types.ForceReply(selective=False)\n",
    "    bot.reply_to(message, f'Boa noite, {message.from_user.first_name}')\n",
    "    msg=(message.text.split())\n",
    "    tes=msg[1]\n",
    "    for i in range(2,len(msg)):\n",
    "        tes=tes+'&'+msg[i]\n",
    "        \n",
    "    \n",
    "    bot.send_message(chat_id,temperatura(tes))\n",
    "    \n",
    "    \n",
    "      \n",
    "bot.polling()\n",
    "\n"
   ]
  },
  {
   "cell_type": "code",
   "execution_count": 7,
   "metadata": {},
   "outputs": [],
   "source": [
    "from urllib.request import urlopen #para efetuar a requisicao\n",
    "import json #para ler o JSON\n",
    " \n"
   ]
  },
  {
   "cell_type": "code",
   "execution_count": 10,
   "metadata": {},
   "outputs": [],
   "source": [
    "def temperatura(cidade):\n",
    "    data = urlopen('https://api.weatherapi.com/v1/current.json?key=xxxxxxxxxxxxxx='+cidade+'&aqi=no').read()\n",
    "    weather = json.loads(data)\n",
    "    cidade_correção=str((weather['location']['name']))\n",
    "    tempe = str((weather['current']['temp_c']))\n",
    "    umidade = str((weather['current']['humidity']))\n",
    "    sensacao = str((weather['current']['feelslike_c']))\n",
    "    tempe=tempe.replace(\"&\", \" \")\n",
    "    text=f'Hoje em {cidade_correção.title()}:\\nTemperatura de: {tempe} ºC 🥶\\nSensação Térmica: {sensacao}ºC 🥶\\n'\n",
    "    return text"
   ]
  },
  {
   "cell_type": "code",
   "execution_count": null,
   "metadata": {},
   "outputs": [],
   "source": []
  }
 ],
 "metadata": {
  "kernelspec": {
   "display_name": "Python 3",
   "language": "python",
   "name": "python3"
  },
  "language_info": {
   "codemirror_mode": {
    "name": "ipython",
    "version": 3
   },
   "file_extension": ".py",
   "mimetype": "text/x-python",
   "name": "python",
   "nbconvert_exporter": "python",
   "pygments_lexer": "ipython3",
   "version": "3.8.5"
  }
 },
 "nbformat": 4,
 "nbformat_minor": 4
}
